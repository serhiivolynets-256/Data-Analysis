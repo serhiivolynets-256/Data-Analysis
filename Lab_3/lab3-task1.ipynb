{
 "cells": [
  {
   "cell_type": "code",
   "execution_count": 1,
   "metadata": {},
   "outputs": [
    {
     "name": "stderr",
     "output_type": "stream",
     "text": [
      "2024-12-10 23:09:51.676710: E external/local_xla/xla/stream_executor/cuda/cuda_fft.cc:477] Unable to register cuFFT factory: Attempting to register factory for plugin cuFFT when one has already been registered\n",
      "WARNING: All log messages before absl::InitializeLog() is called are written to STDERR\n",
      "E0000 00:00:1733864991.759039   18272 cuda_dnn.cc:8310] Unable to register cuDNN factory: Attempting to register factory for plugin cuDNN when one has already been registered\n",
      "E0000 00:00:1733864991.781162   18272 cuda_blas.cc:1418] Unable to register cuBLAS factory: Attempting to register factory for plugin cuBLAS when one has already been registered\n",
      "2024-12-10 23:09:51.966364: I tensorflow/core/platform/cpu_feature_guard.cc:210] This TensorFlow binary is optimized to use available CPU instructions in performance-critical operations.\n",
      "To enable the following instructions: AVX2 FMA, in other operations, rebuild TensorFlow with the appropriate compiler flags.\n"
     ]
    }
   ],
   "source": [
    "import pandas as pd\n",
    "import numpy as np\n",
    "import matplotlib.pyplot as plt\n",
    "from sklearn.model_selection import train_test_split\n",
    "from sklearn.metrics import classification_report, confusion_matrix\n",
    "import seaborn as sns\n",
    "import keras\n",
    "from tensorflow.keras import layers\n",
    "from tensorflow.keras.layers import Dense"
   ]
  },
  {
   "cell_type": "markdown",
   "metadata": {},
   "source": [
    "# 1. Повнозв'язані нейронні мережі\n",
    "Вирішіть завдання класифікації даних, з якими ви працювали в лабораторній № 1 за допомогою повнозв’язаної нейромережі прямого поширення (fully connected feed-forward network). Результати порівняйте з одержаними раніше. \n",
    "Приклади:\n",
    "https://github.com/natsakh/Data-Analysis/tree/main/Pr_5\n",
    "https://keras.io/examples/structured_data/imbalanced_classification/"
   ]
  },
  {
   "cell_type": "markdown",
   "metadata": {},
   "source": [
    "First, vectorize the CSV data"
   ]
  },
  {
   "cell_type": "code",
   "execution_count": 2,
   "metadata": {},
   "outputs": [
    {
     "name": "stdout",
     "output_type": "stream",
     "text": [
      "features.shape: (20000, 16)\n",
      "targets.shape: (20000,)\n"
     ]
    }
   ],
   "source": [
    "fname = '../Lab_1/letter+recognition/letter-recognition.data'\n",
    "target = \"lettr\"\n",
    "\n",
    "df = pd.read_csv(fname)\n",
    "\n",
    "for i in range(len(df)):\n",
    "    df.loc[i, \"lettr\"] = ord(df.loc[i, \"lettr\"]) - 65\n",
    "\n",
    "num_classes = 26\n",
    "\n",
    "\n",
    "features = np.array(df.drop([target], axis=1), dtype=\"float32\")\n",
    "targets = np.array(df[target], dtype=\"uint8\")\n",
    "print(\"features.shape:\", features.shape)\n",
    "print(\"targets.shape:\", targets.shape)"
   ]
  },
  {
   "cell_type": "markdown",
   "metadata": {},
   "source": [
    "Prepare a validation set"
   ]
  },
  {
   "cell_type": "code",
   "execution_count": 3,
   "metadata": {},
   "outputs": [
    {
     "name": "stdout",
     "output_type": "stream",
     "text": [
      "Number of training samples: 12000\n",
      "Number of validation samples: 4000\n"
     ]
    }
   ],
   "source": [
    "x_train, x_temp, y_train, y_temp = train_test_split(features, targets, test_size=0.4, random_state=42)\n",
    "x_val, x_test, y_val, y_test = train_test_split(x_temp, y_temp, test_size=0.5, random_state=42)\n",
    "\n",
    "print(\"Number of training samples:\", len(x_train))\n",
    "print(\"Number of validation samples:\", len(x_val))"
   ]
  },
  {
   "cell_type": "code",
   "execution_count": 4,
   "metadata": {},
   "outputs": [
    {
     "data": {
      "text/plain": [
       "Text(0.5, 1.0, 'Problem')"
      ]
     },
     "execution_count": 4,
     "metadata": {},
     "output_type": "execute_result"
    },
    {
     "data": {
      "image/png": "[encoded data removed]",
      "text/plain": [
       "<Figure size 640x480 with 1 Axes>"
      ]
     },
     "metadata": {},
     "output_type": "display_data"
    }
   ],
   "source": [
    "plt.plot(x_train, y_train, 'bo', alpha = 0.1)\n",
    "plt.xlabel('X')\n",
    "plt.ylabel('y')\n",
    "plt.title('Problem')"
   ]
  },
  {
   "cell_type": "markdown",
   "metadata": {},
   "source": [
    "Analyze class imbalance in the targets"
   ]
  },
  {
   "cell_type": "code",
   "execution_count": 5,
   "metadata": {},
   "outputs": [
    {
     "name": "stdout",
     "output_type": "stream",
     "text": [
      "Number of positive samples in training data: 461 (3.84% of total)\n"
     ]
    }
   ],
   "source": [
    "counts = np.bincount(y_train)\n",
    "print(\n",
    "    \"Number of positive samples in training data: {} ({:.2f}% of total)\".format(\n",
    "        counts[1], 100 * float(counts[1]) / len(y_train)\n",
    "    )\n",
    ")\n",
    "\n",
    "weight_for_0 = 1.0 / counts[0]\n",
    "weight_for_1 = 1.0 / counts[1]"
   ]
  },
  {
   "cell_type": "markdown",
   "metadata": {},
   "source": [
    "Normalize the data using training set statistics"
   ]
  },
  {
   "cell_type": "code",
   "execution_count": 6,
   "metadata": {},
   "outputs": [],
   "source": [
    "mean = np.mean(x_train, axis=0)\n",
    "x_train -= mean\n",
    "x_val -= mean\n",
    "x_test -= mean\n",
    "std = np.std(x_train, axis=0)\n",
    "x_train /= std\n",
    "x_val /= std\n",
    "x_test /= std"
   ]
  },
  {
   "cell_type": "markdown",
   "metadata": {},
   "source": [
    "Build a binary classification model"
   ]
  },
  {
   "cell_type": "code",
   "execution_count": 7,
   "metadata": {},
   "outputs": [],
   "source": [
    "y_train = keras.utils.to_categorical(y_train, num_classes)\n",
    "y_val = keras.utils.to_categorical(y_val, num_classes)\n",
    "y_test = keras.utils.to_categorical(y_test, num_classes)"
   ]
  },
  {
   "cell_type": "code",
   "execution_count": 8,
   "metadata": {},
   "outputs": [
    {
     "name": "stdout",
     "output_type": "stream",
     "text": [
      "Epoch 1/30\n"
     ]
    },
    {
     "name": "stderr",
     "output_type": "stream",
     "text": [
      "2024-12-10 23:09:57.644695: E external/local_xla/xla/stream_executor/cuda/cuda_driver.cc:152] failed call to cuInit: INTERNAL: CUDA error: Failed call to cuInit: UNKNOWN ERROR (303)\n"
     ]
    },
    {
     "name": "stdout",
     "output_type": "stream",
     "text": [
      "38/38 - 2s - 64ms/step - accuracy: 0.6422 - loss: 1.3003 - val_accuracy: 0.5775 - val_loss: 2.4069\n",
      "Epoch 2/30\n",
      "38/38 - 0s - 10ms/step - accuracy: 0.8348 - loss: 0.5426 - val_accuracy: 0.8183 - val_loss: 1.9362\n",
      "Epoch 3/30\n",
      "38/38 - 0s - 9ms/step - accuracy: 0.8869 - loss: 0.3598 - val_accuracy: 0.8267 - val_loss: 1.5313\n",
      "Epoch 4/30\n",
      "38/38 - 0s - 10ms/step - accuracy: 0.9195 - loss: 0.2648 - val_accuracy: 0.8438 - val_loss: 1.1632\n",
      "Epoch 5/30\n",
      "38/38 - 0s - 10ms/step - accuracy: 0.9286 - loss: 0.2239 - val_accuracy: 0.8963 - val_loss: 0.8375\n",
      "Epoch 6/30\n",
      "38/38 - 0s - 9ms/step - accuracy: 0.9433 - loss: 0.1760 - val_accuracy: 0.8971 - val_loss: 0.6070\n",
      "Epoch 7/30\n",
      "38/38 - 0s - 10ms/step - accuracy: 0.9546 - loss: 0.1396 - val_accuracy: 0.9021 - val_loss: 0.4478\n",
      "Epoch 8/30\n",
      "38/38 - 0s - 10ms/step - accuracy: 0.9619 - loss: 0.1199 - val_accuracy: 0.9388 - val_loss: 0.2776\n",
      "Epoch 9/30\n",
      "38/38 - 0s - 9ms/step - accuracy: 0.9652 - loss: 0.1076 - val_accuracy: 0.9108 - val_loss: 0.3181\n",
      "Epoch 10/30\n",
      "38/38 - 0s - 11ms/step - accuracy: 0.9707 - loss: 0.0921 - val_accuracy: 0.9221 - val_loss: 0.2407\n",
      "Epoch 11/30\n",
      "38/38 - 0s - 9ms/step - accuracy: 0.9722 - loss: 0.0795 - val_accuracy: 0.9350 - val_loss: 0.2143\n",
      "Epoch 12/30\n",
      "38/38 - 0s - 9ms/step - accuracy: 0.9742 - loss: 0.0742 - val_accuracy: 0.9421 - val_loss: 0.1704\n",
      "Epoch 13/30\n",
      "38/38 - 0s - 10ms/step - accuracy: 0.9767 - loss: 0.0676 - val_accuracy: 0.9442 - val_loss: 0.1832\n",
      "Epoch 14/30\n",
      "38/38 - 0s - 12ms/step - accuracy: 0.9784 - loss: 0.0661 - val_accuracy: 0.9471 - val_loss: 0.1838\n",
      "Epoch 15/30\n",
      "38/38 - 0s - 10ms/step - accuracy: 0.9801 - loss: 0.0643 - val_accuracy: 0.9517 - val_loss: 0.1610\n",
      "Epoch 16/30\n",
      "38/38 - 0s - 10ms/step - accuracy: 0.9812 - loss: 0.0571 - val_accuracy: 0.9396 - val_loss: 0.1976\n",
      "Epoch 17/30\n",
      "38/38 - 0s - 10ms/step - accuracy: 0.9864 - loss: 0.0445 - val_accuracy: 0.9488 - val_loss: 0.1793\n",
      "Epoch 18/30\n",
      "38/38 - 0s - 9ms/step - accuracy: 0.9835 - loss: 0.0464 - val_accuracy: 0.9488 - val_loss: 0.1728\n",
      "Epoch 19/30\n",
      "38/38 - 0s - 9ms/step - accuracy: 0.9843 - loss: 0.0458 - val_accuracy: 0.9533 - val_loss: 0.1726\n",
      "Epoch 20/30\n",
      "38/38 - 0s - 9ms/step - accuracy: 0.9866 - loss: 0.0428 - val_accuracy: 0.9542 - val_loss: 0.1727\n",
      "Epoch 21/30\n",
      "38/38 - 0s - 11ms/step - accuracy: 0.9875 - loss: 0.0381 - val_accuracy: 0.9504 - val_loss: 0.2165\n",
      "Epoch 22/30\n",
      "38/38 - 0s - 10ms/step - accuracy: 0.9884 - loss: 0.0388 - val_accuracy: 0.9596 - val_loss: 0.1457\n",
      "Epoch 23/30\n",
      "38/38 - 0s - 11ms/step - accuracy: 0.9873 - loss: 0.0380 - val_accuracy: 0.9625 - val_loss: 0.1494\n",
      "Epoch 24/30\n",
      "38/38 - 0s - 10ms/step - accuracy: 0.9881 - loss: 0.0380 - val_accuracy: 0.9504 - val_loss: 0.2057\n",
      "Epoch 25/30\n",
      "38/38 - 0s - 11ms/step - accuracy: 0.9883 - loss: 0.0413 - val_accuracy: 0.9592 - val_loss: 0.1578\n",
      "Epoch 26/30\n",
      "38/38 - 0s - 10ms/step - accuracy: 0.9910 - loss: 0.0280 - val_accuracy: 0.9592 - val_loss: 0.1576\n",
      "Epoch 27/30\n",
      "38/38 - 0s - 11ms/step - accuracy: 0.9912 - loss: 0.0323 - val_accuracy: 0.9513 - val_loss: 0.1995\n",
      "Epoch 28/30\n",
      "38/38 - 0s - 10ms/step - accuracy: 0.9898 - loss: 0.0372 - val_accuracy: 0.9446 - val_loss: 0.2651\n",
      "Epoch 29/30\n",
      "38/38 - 0s - 11ms/step - accuracy: 0.9901 - loss: 0.0284 - val_accuracy: 0.9571 - val_loss: 0.2050\n",
      "Epoch 30/30\n",
      "38/38 - 0s - 10ms/step - accuracy: 0.9926 - loss: 0.0250 - val_accuracy: 0.9483 - val_loss: 0.2041\n"
     ]
    }
   ],
   "source": [
    "model = keras.Sequential([\n",
    "    layers.Dense(512, activation=\"relu\"),\n",
    "    layers.Dense(256, activation=\"relu\"),\n",
    "    layers.BatchNormalization(),\n",
    "    layers.Dense(256, activation=\"relu\"),\n",
    "    layers.Dense(256, activation=\"relu\"),\n",
    "    layers.Dropout(0.3),\n",
    "    layers.Dense(128, activation=\"relu\"),\n",
    "    layers.Dense(26, activation=\"softmax\")\n",
    "])\n",
    "\n",
    "\n",
    "# /model.compile(optimizer=\"rmsprop\", loss=\"binary_crossentropy\", metrics=[\"accuracy\"])\n",
    "\n",
    "model.compile(optimizer='rmsprop', loss='categorical_crossentropy', metrics=['accuracy'])\n",
    "\n",
    "history = model.fit(x_train,\n",
    "                    y_train,\n",
    "                    epochs=30,\n",
    "                    batch_size=256,\n",
    "                    validation_split=0.2,\n",
    "                    verbose = 2)"
   ]
  },
  {
   "cell_type": "code",
   "execution_count": 9,
   "metadata": {},
   "outputs": [
    {
     "data": {
      "text/plain": [
       "dict_keys(['accuracy', 'loss', 'val_accuracy', 'val_loss'])"
      ]
     },
     "execution_count": 9,
     "metadata": {},
     "output_type": "execute_result"
    }
   ],
   "source": [
    "history_dict = history.history\n",
    "history_dict.keys()"
   ]
  },
  {
   "cell_type": "code",
   "execution_count": 10,
   "metadata": {},
   "outputs": [
    {
     "data": {
      "image/png": "[encoded data removed]",
      "text/plain": [
       "<Figure size 640x480 with 1 Axes>"
      ]
     },
     "metadata": {},
     "output_type": "display_data"
    }
   ],
   "source": [
    "history_dict = history.history\n",
    "loss_values = history_dict[\"loss\"]\n",
    "val_loss_values = history_dict[\"val_loss\"]\n",
    "epochs = range(1, len(loss_values) + 1)\n",
    "plt.plot(epochs, loss_values, \"bo\", label=\"Training loss\")\n",
    "plt.plot(epochs, val_loss_values, \"b\", label=\"Validation loss\")\n",
    "plt.title(\"Training and validation loss\")\n",
    "plt.xlabel(\"Epochs\")\n",
    "plt.ylabel(\"Loss\")\n",
    "plt.legend()\n",
    "plt.show()"
   ]
  },
  {
   "cell_type": "code",
   "execution_count": 11,
   "metadata": {},
   "outputs": [
    {
     "name": "stdout",
     "output_type": "stream",
     "text": [
      "\u001b[1m 44/125\u001b[0m \u001b[32m━━━━━━━\u001b[0m\u001b[37m━━━━━━━━━━━━━\u001b[0m \u001b[1m0s\u001b[0m 2ms/step - accuracy: 0.9528 - loss: 0.2466"
     ]
    },
    {
     "name": "stdout",
     "output_type": "stream",
     "text": [
      "\u001b[1m125/125\u001b[0m \u001b[32m━━━━━━━━━━━━━━━━━━━━\u001b[0m\u001b[37m\u001b[0m \u001b[1m0s\u001b[0m 2ms/step - accuracy: 0.9478 - loss: 0.2570\n",
      "Test loss: 0.2603851556777954\n",
      "Test accuracy: 0.9455000162124634\n"
     ]
    }
   ],
   "source": [
    "score = model.evaluate(x_test, y_test, verbose=1)\n",
    "print('Test loss:', score[0])\n",
    "print('Test accuracy:', score[1])"
   ]
  }
 ],
 "metadata": {
  "kernelspec": {
   "display_name": ".venv",
   "language": "python",
   "name": "python3"
  },
  "language_info": {
   "codemirror_mode": {
    "name": "ipython",
    "version": 3
   },
   "file_extension": ".py",
   "mimetype": "text/x-python",
   "name": "python",
   "nbconvert_exporter": "python",
   "pygments_lexer": "ipython3",
   "version": "3.12.3"
  }
 },
 "nbformat": 4,
 "nbformat_minor": 2
}
