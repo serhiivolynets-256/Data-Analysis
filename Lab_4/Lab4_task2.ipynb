{
 "cells": [
  {
   "cell_type": "markdown",
   "metadata": {},
   "source": [
    "### 2. Проведіть експерименти з моделями бібліотеки Hugging Face (раніше - Hugging Face Transformers, https://huggingface.co/) за допомогою (наприклад) Pipeline модуля"
   ]
  },
  {
   "cell_type": "code",
   "execution_count": 8,
   "metadata": {},
   "outputs": [],
   "source": [
    "from transformers import pipeline, MarianMTModel, MarianTokenizer"
   ]
  },
  {
   "cell_type": "code",
   "execution_count": 9,
   "metadata": {},
   "outputs": [
    {
     "name": "stderr",
     "output_type": "stream",
     "text": [
      "Device set to use cpu\n"
     ]
    },
    {
     "name": "stdout",
     "output_type": "stream",
     "text": [
      "{'label': '5 stars', 'score': 0.8333286643028259}\n",
      "{'label': '5 stars', 'score': 0.738439679145813}\n",
      "{'label': '1 star', 'score': 0.6012153625488281}\n",
      "{'label': '2 stars', 'score': 0.385334849357605}\n"
     ]
    }
   ],
   "source": [
    "classifier = pipeline(\n",
    "    \"sentiment-analysis\",\n",
    "    model = \"nlptown/bert-base-multilingual-uncased-sentiment\",\n",
    "    tokenizer = \"nlptown/bert-base-multilingual-uncased-sentiment\",\n",
    "\tpadding = True,\n",
    "    truncation = True,\n",
    "    max_length = 512\n",
    ")\n",
    "\n",
    "example_text_set = [\n",
    "    \"Прекрасне обслуговування, повернуся сюди ще раз!\",\n",
    "    \"Цей магазин чудовий! Я дуже задоволений сервісом.\",\n",
    "\t\"Магазин не відповідає моїм очікуванням. Я не рекомендую.\",\n",
    "\t\"Все було нормально, але нічого особливого.\",\n",
    "]\n",
    "\n",
    "result = classifier(example_text_set)\n",
    "for result_i in result:\n",
    "    print(result_i)"
   ]
  },
  {
   "cell_type": "code",
   "execution_count": 10,
   "metadata": {},
   "outputs": [
    {
     "name": "stdout",
     "output_type": "stream",
     "text": [
      "[{'label': '1 star', 'score': 0.49495744705200195}]\n"
     ]
    }
   ],
   "source": [
    "result = classifier(\"Це просто жахливий магазин. Найгірше місце, яке я бачила.\")\n",
    "print(result)"
   ]
  },
  {
   "cell_type": "code",
   "execution_count": 13,
   "metadata": {},
   "outputs": [
    {
     "name": "stdout",
     "output_type": "stream",
     "text": [
      "Untranslated text: Прекрасне обслуговування, повернуся сюди ще раз!\n",
      "Translated text: Fine service, I'll be back here again!\n",
      "Untranslated text: Цей магазин чудовий! Я дуже задоволений сервісом.\n",
      "Translated text: This store is great! I'm very pleased with the service.\n",
      "Untranslated text: Магазин не відповідає моїм очікуванням. Я не рекомендую.\n",
      "Translated text: The store doesn't match my expectations, I don't recommend it.\n",
      "Untranslated text: Все було нормально, але нічого особливого.\n",
      "Translated text: Everything was fine, but nothing special.\n"
     ]
    }
   ],
   "source": [
    "model_name = 'Helsinki-NLP/opus-mt-uk-en'\n",
    "model = MarianMTModel.from_pretrained(model_name)\n",
    "tokenizer = MarianTokenizer.from_pretrained(model_name)\n",
    "\n",
    "for ukr_text in example_text_set:\n",
    "    tokens = tokenizer(ukr_text, return_tensors='pt', padding=True)\n",
    "\n",
    "    translated_tokens = model.generate(**tokens)\n",
    "    translated_text = tokenizer.decode(translated_tokens[0], skip_special_tokens=True)\n",
    "\n",
    "    print(\"Untranslated text:\", ukr_text)\n",
    "    print(\"Translated text:\", translated_text)"
   ]
  }
 ],
 "metadata": {
  "kernelspec": {
   "display_name": ".venv",
   "language": "python",
   "name": "python3"
  },
  "language_info": {
   "codemirror_mode": {
    "name": "ipython",
    "version": 3
   },
   "file_extension": ".py",
   "mimetype": "text/x-python",
   "name": "python",
   "nbconvert_exporter": "python",
   "pygments_lexer": "ipython3",
   "version": "3.12.3"
  }
 },
 "nbformat": 4,
 "nbformat_minor": 2
}
