{
 "cells": [
  {
   "cell_type": "markdown",
   "metadata": {},
   "source": [
    "### 2. Проведіть експерименти з моделями бібліотеки Hugging Face (раніше - Hugging Face Transformers, https://huggingface.co/) за допомогою (наприклад) Pipeline модуля"
   ]
  },
  {
   "cell_type": "code",
   "execution_count": null,
   "metadata": {},
   "outputs": [
    {
     "name": "stderr",
     "output_type": "stream",
     "text": [
      "2024-12-19 11:19:08.333182: E external/local_xla/xla/stream_executor/cuda/cuda_fft.cc:477] Unable to register cuFFT factory: Attempting to register factory for plugin cuFFT when one has already been registered\n",
      "WARNING: All log messages before absl::InitializeLog() is called are written to STDERR\n",
      "E0000 00:00:1734599948.354524   47543 cuda_dnn.cc:8310] Unable to register cuDNN factory: Attempting to register factory for plugin cuDNN when one has already been registered\n",
      "E0000 00:00:1734599948.360169   47543 cuda_blas.cc:1418] Unable to register cuBLAS factory: Attempting to register factory for plugin cuBLAS when one has already been registered\n",
      "2024-12-19 11:19:08.380992: I tensorflow/core/platform/cpu_feature_guard.cc:210] This TensorFlow binary is optimized to use available CPU instructions in performance-critical operations.\n",
      "To enable the following instructions: AVX2 FMA, in other operations, rebuild TensorFlow with the appropriate compiler flags.\n"
     ]
    }
   ],
   "source": [
    "from transformers import pipeline"
   ]
  },
  {
   "cell_type": "code",
   "execution_count": 2,
   "metadata": {},
   "outputs": [
    {
     "name": "stderr",
     "output_type": "stream",
     "text": [
      "Device set to use cpu\n"
     ]
    },
    {
     "name": "stdout",
     "output_type": "stream",
     "text": [
      "{'label': '5 stars', 'score': 0.8333286643028259}\n",
      "{'label': '5 stars', 'score': 0.738439679145813}\n",
      "{'label': '1 star', 'score': 0.6012153625488281}\n",
      "{'label': '2 stars', 'score': 0.385334849357605}\n",
      "{'label': '1 star', 'score': 0.49495744705200195}\n"
     ]
    }
   ],
   "source": [
    "classifier = pipeline(\n",
    "    \"sentiment-analysis\",\n",
    "    model = \"nlptown/bert-base-multilingual-uncased-sentiment\",\n",
    "    tokenizer = \"nlptown/bert-base-multilingual-uncased-sentiment\",\n",
    "\tpadding = True,\n",
    "    truncation = True,\n",
    "    max_length = 512\n",
    ")\n",
    "\n",
    "example_text_set = [\n",
    "    \"Прекрасне обслуговування, повернуся сюди ще раз!\",\n",
    "    \"Цей магазин чудовий! Я дуже задоволений сервісом.\",\n",
    "\t\"Магазин не відповідає моїм очікуванням. Я не рекомендую.\",\n",
    "\t\"Все було нормально, але нічого особливого.\",\n",
    "\t\"Це просто жахливий магазин. Найгірше місце, яке я бачила.\",\n",
    "]\n",
    "\n",
    "result = classifier(example_text_set)\n",
    "for result_i in result:\n",
    "    print(result_i)"
   ]
  }
 ],
 "metadata": {
  "kernelspec": {
   "display_name": ".venv",
   "language": "python",
   "name": "python3"
  },
  "language_info": {
   "codemirror_mode": {
    "name": "ipython",
    "version": 3
   },
   "file_extension": ".py",
   "mimetype": "text/x-python",
   "name": "python",
   "nbconvert_exporter": "python",
   "pygments_lexer": "ipython3",
   "version": "3.12.3"
  }
 },
 "nbformat": 4,
 "nbformat_minor": 2
}
